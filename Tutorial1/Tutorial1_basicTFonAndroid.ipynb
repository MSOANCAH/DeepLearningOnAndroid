{
 "cells": [
  {
   "cell_type": "code",
   "execution_count": null,
   "metadata": {},
   "outputs": [],
   "source": [
    "import tensorflow as tf\n",
    "print(\"TensorFlow version: \" + tf.__version__)"
   ]
  },
  {
   "cell_type": "code",
   "execution_count": null,
   "metadata": {},
   "outputs": [],
   "source": [
    "TUTORIAL_NAME = 'Tutorial1'\n",
    "MODEL_NAME = 'basicTFonAndroid'\n",
    "SAVED_MODEL_PATH = '../' + TUTORIAL_NAME+'_Saved_model/'"
   ]
  },
  {
   "cell_type": "code",
   "execution_count": null,
   "metadata": {},
   "outputs": [],
   "source": [
    "A = tf.placeholder(tf.float32, shape=[1], name='some_nameA') # input a\n",
    "B = tf.placeholder(tf.float32, shape=[1], name='some_nameB') # input b\n",
    "\n",
    "# A tensorflow variable not used anywhere in this model\n",
    "W = tf.Variable(tf.zeros(shape=[1]), dtype=tf.float32, name='some_nameW') # weights\n",
    "\n",
    "# sum of two matrices element-wise, in our case two numbers in \n",
    "AB = tf.add(A, B, name='some_nameAB')"
   ]
  },
  {
   "cell_type": "code",
   "execution_count": null,
   "metadata": {},
   "outputs": [],
   "source": [
    "sess = tf.Session()\n",
    "init = tf.global_variables_initializer()\n",
    "sess.run(init)"
   ]
  },
  {
   "cell_type": "code",
   "execution_count": null,
   "metadata": {},
   "outputs": [],
   "source": [
    "sess.run(AB,{A:[2],B:[4]})"
   ]
  },
  {
   "cell_type": "code",
   "execution_count": null,
   "metadata": {},
   "outputs": [],
   "source": [
    "tf.train.write_graph(sess.graph_def, SAVED_MODEL_PATH , MODEL_NAME + '_withWeightW_asVariable' + '.pbtxt')"
   ]
  },
  {
   "cell_type": "code",
   "execution_count": null,
   "metadata": {},
   "outputs": [],
   "source": [
    "_W = W.eval(sess)\n",
    "print(_W)"
   ]
  },
  {
   "cell_type": "code",
   "execution_count": null,
   "metadata": {},
   "outputs": [],
   "source": [
    "A2 = tf.placeholder(tf.float32, shape=[1], name='modelInputA') # input a\n",
    "B2 = tf.placeholder(tf.float32, shape=[1], name='modelInputB') # input b\n",
    "\n",
    "# A tensorflow variable(not used anywhere in this model)\n",
    "W2 = tf.constant(_W, name='modelWeightW') # weights\n",
    "\n",
    "# sum of two matrices element-wise, in our case two numbers in \n",
    "AB2 = tf.add(A2, B2, name='modelOutputAB')"
   ]
  },
  {
   "cell_type": "code",
   "execution_count": null,
   "metadata": {},
   "outputs": [],
   "source": [
    "tf.train.write_graph(sess.graph_def, SAVED_MODEL_PATH , MODEL_NAME + '.pbtxt')\n",
    "tf.train.write_graph(sess.graph_def, SAVED_MODEL_PATH , MODEL_NAME + '.pb', as_text=False)"
   ]
  },
  {
   "cell_type": "code",
   "execution_count": null,
   "metadata": {},
   "outputs": [],
   "source": []
  }
 ],
 "metadata": {
  "kernelspec": {
   "display_name": "Python 2",
   "language": "python",
   "name": "python2"
  },
  "language_info": {
   "codemirror_mode": {
    "name": "ipython",
    "version": 2
   },
   "file_extension": ".py",
   "mimetype": "text/x-python",
   "name": "python",
   "nbconvert_exporter": "python",
   "pygments_lexer": "ipython2",
   "version": "2.7.14"
  }
 },
 "nbformat": 4,
 "nbformat_minor": 2
}
