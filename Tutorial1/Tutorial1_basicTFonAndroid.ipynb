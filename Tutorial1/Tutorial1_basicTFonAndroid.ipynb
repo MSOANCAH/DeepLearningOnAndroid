{
 "cells": [
  {
   "cell_type": "markdown",
   "metadata": {},
   "source": [
    "## Basics\n",
    "As per google Tensorflow is defined as \n",
    ">TensorFlow™ is an open source software library for ***numerical computation*** using data flow graphs. ***Nodes in the graph*** represent mathematical operations, while the ***graph edges*** represent the multidimensional data arrays (tensors) communicated between them.\n",
    "\n",
    "Imagine a sophistcated AI framework extensively used by google in all there products defined in two simple lines. Beauty of the above statement is this infact is the essence of all the Deep Learning happening today. And this defination is applicable to every Deep Learning framework we have.\n",
    "\n",
    "Lets take a typical neural network (basically a graph) and understand the above two lines\n",
    "\n",
    "<img src=\"../images/t1_1_basic_nn.jpg\" alt=\"Drawing\" style=\"width: 2000px;\"/>\n",
    "\n",
    "\n",
    "\n",
    "\n"
   ]
  },
  {
   "cell_type": "code",
   "execution_count": null,
   "metadata": {},
   "outputs": [],
   "source": []
  },
  {
   "cell_type": "code",
   "execution_count": null,
   "metadata": {},
   "outputs": [],
   "source": []
  },
  {
   "cell_type": "code",
   "execution_count": null,
   "metadata": {},
   "outputs": [],
   "source": [
    "import tensorflow as tf\n",
    "print(\"TensorFlow version: \" + tf.__version__)"
   ]
  },
  {
   "cell_type": "code",
   "execution_count": null,
   "metadata": {},
   "outputs": [],
   "source": [
    "TUTORIAL_NAME = 'Tutorial1'\n",
    "MODEL_NAME = 'basicTFonAndroid'\n",
    "SAVED_MODEL_PATH = '../' + TUTORIAL_NAME+'_Saved_model/'"
   ]
  },
  {
   "cell_type": "code",
   "execution_count": null,
   "metadata": {},
   "outputs": [],
   "source": [
    "A = tf.placeholder(tf.float32, shape=[1], name='some_nameA') # input a\n",
    "B = tf.placeholder(tf.float32, shape=[1], name='some_nameB') # input b\n",
    "\n",
    "# A tensorflow variable not used anywhere in this model\n",
    "W = tf.Variable(tf.zeros(shape=[1]), dtype=tf.float32, name='some_nameW') # weights\n",
    "\n",
    "# sum of two matrices element-wise, in our case two numbers in \n",
    "AB = tf.add(A, B, name='some_nameAB')"
   ]
  },
  {
   "cell_type": "code",
   "execution_count": null,
   "metadata": {},
   "outputs": [],
   "source": [
    "sess = tf.Session()\n",
    "init = tf.global_variables_initializer()\n",
    "sess.run(init)"
   ]
  },
  {
   "cell_type": "code",
   "execution_count": null,
   "metadata": {},
   "outputs": [],
   "source": [
    "sess.run(AB,{A:[2],B:[4]})"
   ]
  },
  {
   "cell_type": "code",
   "execution_count": null,
   "metadata": {},
   "outputs": [],
   "source": [
    "tf.train.write_graph(sess.graph_def, SAVED_MODEL_PATH , MODEL_NAME + '_withWeightW_asVariable' + '.pbtxt')"
   ]
  },
  {
   "cell_type": "code",
   "execution_count": null,
   "metadata": {},
   "outputs": [],
   "source": [
    "_W = W.eval(sess)\n",
    "print(_W)"
   ]
  },
  {
   "cell_type": "code",
   "execution_count": null,
   "metadata": {},
   "outputs": [],
   "source": [
    "A2 = tf.placeholder(tf.float32, shape=[1], name='modelInputA') # input a\n",
    "B2 = tf.placeholder(tf.float32, shape=[1], name='modelInputB') # input b\n",
    "\n",
    "# A tensorflow variable(not used anywhere in this model)\n",
    "W2 = tf.constant(_W, name='modelWeightW') # weights\n",
    "\n",
    "# sum of two matrices element-wise, in our case two numbers in \n",
    "AB2 = tf.add(A2, B2, name='modelOutputAB')"
   ]
  },
  {
   "cell_type": "code",
   "execution_count": null,
   "metadata": {},
   "outputs": [],
   "source": [
    "tf.train.write_graph(sess.graph_def, SAVED_MODEL_PATH , MODEL_NAME + '.pbtxt')\n",
    "tf.train.write_graph(sess.graph_def, SAVED_MODEL_PATH , MODEL_NAME + '.pb', as_text=False)"
   ]
  },
  {
   "cell_type": "code",
   "execution_count": null,
   "metadata": {},
   "outputs": [],
   "source": []
  }
 ],
 "metadata": {
  "kernelspec": {
   "display_name": "Python 2",
   "language": "python",
   "name": "python2"
  },
  "language_info": {
   "codemirror_mode": {
    "name": "ipython",
    "version": 2
   },
   "file_extension": ".py",
   "mimetype": "text/x-python",
   "name": "python",
   "nbconvert_exporter": "python",
   "pygments_lexer": "ipython2",
   "version": "2.7.14"
  }
 },
 "nbformat": 4,
 "nbformat_minor": 2
}
