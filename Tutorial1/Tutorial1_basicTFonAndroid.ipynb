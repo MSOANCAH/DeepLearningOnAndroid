{
 "cells": [
  {
   "cell_type": "markdown",
   "metadata": {},
   "source": [
    "#### *If you are clear with basics you can skip to code below (section 2.Hands On)*\n",
    "\n",
    "## 1.Basics\n",
    "As per google, Tensorflow is defined as \n",
    ">TensorFlow™ is an open source software library for ***numerical computation*** using data flow graphs. ***Nodes in the graph*** represent mathematical operations, while the ***graph edges*** represent the multidimensional data arrays (tensors) communicated between them.\n",
    "\n",
    "Imagine, a sophistcated AI framework extensively used by google in all there products defined in two simple lines. Beauty of the above statement is, this infact is the essence of all the Deep Learning happening today. And this defination is applicable to every Deep Learning framework we have.\n",
    "\n",
    "Lets take a typical neural network (basically a graph) and understand the above two lines\n",
    "\n",
    "<img src=\"../images/t1_1_basic_nn.jpg\" alt=\"Drawing\" style=\"width: 650px;\"/>\n",
    "\n",
    "<center>1.Simple Neural network<center/>\n",
    "\n",
    "<br></br>\n",
    "\n",
    "In any kind of deep learning we create a graph (called as a model in popular language) in which a\n",
    "\n",
    "**NODE** -> is a mathematical operation like add, subtract, multiply or some other operation performed on matrices recieved as input. Necessarily not 2 dimensional matrices but can be multi-dimensional matrices called tensors. Now you know what tensor->flow actually means.\n",
    "\n",
    "For example, Node A1 in Computation layer 1 takes input from all the Input nodes (1,2 and 3) and does the computation on each input individually.\n",
    "\n",
    "**Graph Edge** -> in a deep learning model basically means the output of a node will be passed to all the nodes it is connect to in the next layer. In above diagram from example, Node A1 will pass on its output to the nodes in next layer it is connected to ie Node B1, B2, B3 and B4.\n",
    "\n",
    "\n",
    "**Now lets bring some key Tensorflow concepts**\n",
    "1."
   ]
  },
  {
   "cell_type": "code",
   "execution_count": null,
   "metadata": {},
   "outputs": [],
   "source": []
  },
  {
   "cell_type": "markdown",
   "metadata": {},
   "source": [
    "## 2.Hands On"
   ]
  },
  {
   "cell_type": "code",
   "execution_count": null,
   "metadata": {},
   "outputs": [],
   "source": [
    "import tensorflow as tf\n",
    "print(\"TensorFlow version: \" + tf.__version__)"
   ]
  },
  {
   "cell_type": "code",
   "execution_count": null,
   "metadata": {},
   "outputs": [],
   "source": [
    "TUTORIAL_NAME = 'Tutorial1'\n",
    "MODEL_NAME = 'basicTFonAndroid'\n",
    "SAVED_MODEL_PATH = '../' + TUTORIAL_NAME+'_Saved_model/'"
   ]
  },
  {
   "cell_type": "code",
   "execution_count": null,
   "metadata": {},
   "outputs": [],
   "source": [
    "A = tf.placeholder(tf.float32, shape=[1], name='some_nameA') # input a\n",
    "B = tf.placeholder(tf.float32, shape=[1], name='some_nameB') # input b\n",
    "\n",
    "# A tensorflow variable not used anywhere in this model \n",
    "W = tf.Variable(tf.zeros(shape=[1]), dtype=tf.float32, name='some_nameW') # weights\n",
    "\n",
    "# sum of two matrices element-wise, in our case two numbers in \n",
    "AB = tf.add(A, B, name='some_nameAB')"
   ]
  },
  {
   "cell_type": "code",
   "execution_count": null,
   "metadata": {},
   "outputs": [],
   "source": [
    "sess = tf.Session()\n",
    "init = tf.global_variables_initializer()\n",
    "sess.run(init)"
   ]
  },
  {
   "cell_type": "code",
   "execution_count": null,
   "metadata": {},
   "outputs": [],
   "source": [
    "sess.run(AB,{A:[2],B:[4]})"
   ]
  },
  {
   "cell_type": "code",
   "execution_count": null,
   "metadata": {},
   "outputs": [],
   "source": [
    "tf.train.write_graph(sess.graph_def, SAVED_MODEL_PATH , MODEL_NAME + '_withWeightW_asVariable' + '.pbtxt')"
   ]
  },
  {
   "cell_type": "code",
   "execution_count": null,
   "metadata": {},
   "outputs": [],
   "source": [
    "_W = W.eval(sess)\n",
    "print(_W)"
   ]
  },
  {
   "cell_type": "code",
   "execution_count": null,
   "metadata": {},
   "outputs": [],
   "source": [
    "A2 = tf.placeholder(tf.float32, shape=[1], name='modelInputA') # input a\n",
    "B2 = tf.placeholder(tf.float32, shape=[1], name='modelInputB') # input b\n",
    "\n",
    "# A tensorflow variable(not used anywhere in this model)\n",
    "W2 = tf.constant(_W, name='modelWeightW') # weights\n",
    "\n",
    "# sum of two matrices element-wise, in our case two numbers in \n",
    "AB2 = tf.add(A2, B2, name='modelOutputAB')"
   ]
  },
  {
   "cell_type": "code",
   "execution_count": null,
   "metadata": {},
   "outputs": [],
   "source": [
    "tf.train.write_graph(sess.graph_def, SAVED_MODEL_PATH , MODEL_NAME + '.pbtxt')\n",
    "tf.train.write_graph(sess.graph_def, SAVED_MODEL_PATH , MODEL_NAME + '.pb', as_text=False)"
   ]
  },
  {
   "cell_type": "code",
   "execution_count": null,
   "metadata": {},
   "outputs": [],
   "source": []
  }
 ],
 "metadata": {
  "kernelspec": {
   "display_name": "Python 2",
   "language": "python",
   "name": "python2"
  },
  "language_info": {
   "codemirror_mode": {
    "name": "ipython",
    "version": 2
   },
   "file_extension": ".py",
   "mimetype": "text/x-python",
   "name": "python",
   "nbconvert_exporter": "python",
   "pygments_lexer": "ipython2",
   "version": "2.7.14"
  }
 },
 "nbformat": 4,
 "nbformat_minor": 2
}
