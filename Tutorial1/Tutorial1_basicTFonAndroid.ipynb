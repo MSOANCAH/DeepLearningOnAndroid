{
 "cells": [
  {
   "cell_type": "markdown",
   "metadata": {},
   "source": [
    "#### *If you are clear with basics skip to code below to see how to create and freeze a 1 node graph (section 2.Hands On)*\n",
    "#### *I assume you have succesfully run the TFAndroid android app on your android device and played with the two apps TF-MNIST and TF-BASIC installed. Kindly complete this before if you want to deploy model you will be creating in this tutorial.*\n",
    "\n",
    "# 1.Basics\n",
    "\n",
    "### **General concepts**\n",
    "\n",
    "As per google, Tensorflow is defined as \n",
    ">TensorFlow™ is an open source software library for ***numerical computation*** using data flow graphs. ***Nodes in the graph*** represent mathematical operations, while the ***graph edges*** represent the multidimensional ***data arrays (tensors)*** communicated between them.\n",
    "\n",
    "Imagine, a sophistcated AI framework extensively used by google in all there products defined in two simple lines. Beauty of the above statement is, this infact is the essence of all the Deep Learning happening today. And this defination is applicable to every Deep Learning framework we have.\n",
    "\n",
    "Lets take a typical neural network (basically a graph) and understand the above two lines\n",
    "\n",
    "<img src=\"../images/t1_1_basic_nn_color.jpeg\" alt=\"Drawing\" style=\"width: 600px;\"/>\n",
    "\n",
    "<br></br>\n",
    "\n",
    "In any kind of deep learning we create a graph (called as a model in popular language) in which a\n",
    "\n",
    "**NODE** -> is a mathematical operation like add, subtract, multiply or some other operation performed on matrices recieved as input. Necessarily not 2 dimensional matrices but can be multi-dimensional matrices called tensors. Now you know what tensor->flow actually means. **(ask yourself add, subtract or multiply the input with what?** will answer that shortly **)**\n",
    "\n",
    "For example, Node A1 in Computation layer 1 takes input from all the Input nodes (1,2 and 3) and does the computation on each input.\n",
    "\n",
    "**Graph Edge** -> in a deep learning model basically means the output of a node will be passed to all the nodes it is connect to in the next layer. In above diagram from example, Node A1 will pass on its output to the nodes in next layer it is connected to ie Node B1, B2, B3 and B4.\n",
    "\n",
    "\n",
    "Till now we were talking about operations done by nodes but what about data we input and how is it handled. Lets see it next.\n",
    "\n",
    "\n",
    "### **Lets bring in some key Tensorflow concepts**\n",
    "\n",
    "**1.Nodes** -> I have defined them above but in tensorflow there are some other type of nodes as well. Apart from computations they can be used to hold values or input values into graph etc. For us there are three type of value holders we should be concerned. \n",
    "- **placeholders** -> these are the entry points from where input values are fed into graphs(neural network). In the diagram above Input nodes (1,2 and 3) are actually placeholders to feed data into network.\n",
    "\n",
    "- **variables** -> these are fixed dimension holders whose values can change.\n",
    "\n",
    "- **constants** -> these are fixed dimension holders whose values can't be changed once after assigning them some value.\n",
    "\n",
    "**2.Graph** -> is a collection of nodes which take input from placeholders, process them in nodes and give output. \n",
    "\n",
    "**3.Session** -> To operate on a graph we need to create a session for that. This ensures only 1 program is able to run that graph so that learnings are consistent.\n",
    "<br></br>\n",
    "\n",
    "### **Lets see the last important concept where all the magic is happening, the *learning* in deep learning.**\n",
    "\n",
    "While explaining nodes above, I told you that nodes take in input from previous layer, do a mathematical operation say multiply and pass on the output to next layer. But multiply with what ? \n",
    "\n",
    "Here comes the model **parameters** in picture.\n",
    "\n",
    "Every computation node in a neural network have some parameters(also called weights) which are used in doing the computation assigned to that node. These weights are **tensorflow variable(another matrix or more appropriately a tensor)** holding some magic values which is used in computation done on the input and yield the output.\n",
    "\n",
    "May sound complicated, for now just assume that every node holds some magic value to do its task and generate output for next layer from a given input. \n",
    "\n",
    "Also in next tutorial I'll introduce the concept of training and iterations and how a model learns to make predictions. There you will get more clarity on what these weights are and how are their magic values assigned to them.\n",
    "<br></br>\n",
    "\n",
    "### **Summarizing what we have read till now**\n",
    "\n",
    "In deep learning\n",
    "- We create graph like computation structure popularly called as model.\n",
    "- A graph consist of computation nodes and some parameters in those nodes with magic values in them.\n",
    "- In tensorflow we have a special variable called placeholder to feed input into graph.\n",
    "- Once we create a graph, we create a tensorflow session to operate on that graph.\n",
    "<br></br>\n",
    "<br></br>\n",
    "<br></br>\n",
    "<br></br>"
   ]
  },
  {
   "cell_type": "markdown",
   "metadata": {},
   "source": [
    "***If you are aware of the basics and just want to know how to run tensorflow model on android, read directly from ***\n",
    "# 2. Hands On\n",
    "\n",
    "Before we start with code lets outline what we are going to do.\n",
    "\n",
    "- We will create a single node Neural network which simply adds two input values.\n",
    "- Create a tensorflow session, initialize all the variables we define and run the session.\n",
    "- Save the model onto harddisk as a ***.pbtxt*** file. (more details of this file ahead).\n",
    "- Freeze the model and save it as a ***.pb*** file which we can deploy on android device.\n",
    "- Copy the saved file in the assets directory of TFAndroid android project.\n",
    "- Test your first tensorflow model on an android device.\n",
    "\n",
    "<img src=\"../images/t1_2_single_node_network.jpeg\" alt=\"Drawing\" style=\"width: 400px;\"/>\n"
   ]
  },
  {
   "cell_type": "markdown",
   "metadata": {},
   "source": [
    "Import the required libraries.\n",
    "If all is good it will print the tensorflow version below.\n",
    "\n",
    "( To run any code block, select it and press SHIFT+ENTER )"
   ]
  },
  {
   "cell_type": "code",
   "execution_count": null,
   "metadata": {},
   "outputs": [],
   "source": [
    "import tensorflow as tf\n",
    "print(\"TensorFlow version: \" + tf.__version__)"
   ]
  },
  {
   "cell_type": "markdown",
   "metadata": {},
   "source": [
    "Define the some variables and output path to save our model"
   ]
  },
  {
   "cell_type": "code",
   "execution_count": null,
   "metadata": {},
   "outputs": [],
   "source": [
    "TUTORIAL_NAME = 'Tutorial1'\n",
    "MODEL_NAME = 'basicTFonAndroid'\n",
    "SAVED_MODEL_PATH = '../' + TUTORIAL_NAME+'_Saved_model/'"
   ]
  },
  {
   "cell_type": "markdown",
   "metadata": {},
   "source": [
    "### Lets create the model\n",
    "\n",
    "- First two lines create a model which takes in input of float type, input has shape of a 1x1 matrix and is assigned some name.\n",
    "- Next line create a variable of shape 1x1, type float and assigned some name. One point to notice, here I have just defined a variable to show you how its done but this variable is not used in any computation.\n",
    "- Last we create a basic node adding to inputs."
   ]
  },
  {
   "cell_type": "code",
   "execution_count": null,
   "metadata": {},
   "outputs": [],
   "source": [
    "A = tf.placeholder(tf.float32, shape=[1], name='some_nameA') # input a\n",
    "B = tf.placeholder(tf.float32, shape=[1], name='some_nameB') # input b\n",
    "\n",
    "# A tensorflow holder of type variable not used anywhere in this model \n",
    "W = tf.Variable(tf.zeros(shape=[1]), dtype=tf.float32, name='some_nameW') # weights\n",
    "\n",
    "# sum of two matrices element-wise, in our case two numbers in \n",
    "AB = tf.add(A, B, name='some_nameAB')"
   ]
  },
  {
   "cell_type": "markdown",
   "metadata": {},
   "source": [
    "### Create tensorflow session\n",
    "Observe the tf.zero() funcation above. Below three lines basically create a tensorflow session and initialise variable W with a zeros matrix of shape 1x1 ( yes,zeros because of tf.zero())."
   ]
  },
  {
   "cell_type": "code",
   "execution_count": null,
   "metadata": {},
   "outputs": [],
   "source": [
    "sess = tf.Session()\n",
    "init = tf.global_variables_initializer()\n",
    "sess.run(init)"
   ]
  },
  {
   "cell_type": "markdown",
   "metadata": {},
   "source": [
    "Lets test our simple 1 node network by feeding in some value and running the graph. AB is the output we wish to calculate and second parameter below is our input, fed as a dictionary."
   ]
  },
  {
   "cell_type": "code",
   "execution_count": null,
   "metadata": {},
   "outputs": [],
   "source": [
    "sess.run(AB,{A:[2],B:[4]})"
   ]
  },
  {
   "cell_type": "markdown",
   "metadata": {},
   "source": [
    "As expected , output is 6\n",
    "\n",
    "### Save the model \n",
    "Lets save this model on harddisk. After running the command below please go to the root folder of this repo (DeepLearningOnAndroid) and you'll see a new folder with name **Tutorial1_Saved_model** there. Inside the folder will be our saved model as text file. Go ahead and open the file in text editor and observe its content. You'll see defination of our network consisting of various nodes and operations.\n",
    "\n"
   ]
  },
  {
   "cell_type": "code",
   "execution_count": null,
   "metadata": {},
   "outputs": [],
   "source": [
    "tf.train.write_graph(sess.graph_def, SAVED_MODEL_PATH , MODEL_NAME + '_withWeightW_asVariable' + '.pbtxt')"
   ]
  },
  {
   "cell_type": "markdown",
   "metadata": {},
   "source": [
    "### Freezing model and deploying on android\n",
    "\n",
    "When you open the **basicTFonAndroid_withWeightW_asVariable.pbtxt** file we saved above and search for keyword **Variable** you will find 1 node of type variable.\n",
    "\n",
    "<img src=\"../images/t1_3_variable_node_pbtxt.png\" alt=\"Drawing\" />\n",
    "\n",
    "**Now to deploy this model on android device we need to convert all the variables into constants and create a binary *.pb* file instead.**\n",
    "\n",
    "Below command evaluates the value of the variable W. Obvioulsy it is expected to be 0 as we initialized with tf.zeros()"
   ]
  },
  {
   "cell_type": "code",
   "execution_count": null,
   "metadata": {},
   "outputs": [],
   "source": [
    "_W = W.eval(sess)\n",
    "print(_W)"
   ]
  },
  {
   "cell_type": "markdown",
   "metadata": {},
   "source": [
    "Next we replicate the model we created above and instead of using a parameter of type variable we use a parameter of type constant."
   ]
  },
  {
   "cell_type": "code",
   "execution_count": null,
   "metadata": {},
   "outputs": [],
   "source": [
    "A2 = tf.placeholder(tf.float32, shape=[1], name='modelInputA') # input a\n",
    "B2 = tf.placeholder(tf.float32, shape=[1], name='modelInputB') # input b\n",
    "\n",
    "# A tensorflow holder of type constant(not actually used anywhere in this model)\n",
    "W2 = tf.constant(_W, name='modelWeightW') # weights\n",
    "\n",
    "# sum of two matrices element-wise, in our case two numbers in \n",
    "AB2 = tf.add(A2, B2, name='modelOutputAB')"
   ]
  },
  {
   "cell_type": "code",
   "execution_count": null,
   "metadata": {},
   "outputs": [],
   "source": [
    "tf.train.write_graph(sess.graph_def, SAVED_MODEL_PATH , MODEL_NAME + '.pbtxt')\n",
    "tf.train.write_graph(sess.graph_def, SAVED_MODEL_PATH , MODEL_NAME + '.pb', as_text=False)"
   ]
  },
  {
   "cell_type": "markdown",
   "metadata": {
    "collapsed": true
   },
   "source": [
    "After running all the commands above, check a new **.pbtxt** file and its corresponding binay **.pb** file would have been created. Open the new .pbtxt file and see its content. You will see that nodes we defined in the graph above and the graph we created just now both are present. Thats because all the tensorflow holders and nodes are captured by the tensorflow session.\n",
    "\n",
    "**Please copy the .pb file into assets folder of the android project included in this repo , change the name of model in MainActivity.java file by removing the leading _ in the name. Run the app. Congrats you have succesfully deployed your first tensorflow model on android.**\n",
    "\n",
    "**To deploy a tensorflow model we need to convert all variable type holders into constant type. But you may ask that the new file created above still has the old variable W. That is OK here because W is not used in computation hence does not cause any issue.**\n",
    "\n",
    "<img src=\"../images/t1_3_variable_node_pbtxt.png\" alt=\"Drawing\" />\n",
    "\n",
    "Now you must be thinkig, what if we have a million variables in our graph used in computations, we cant manually convert all the variables? \n",
    "\n",
    "Lets see how we'll tackle this in Tutorial2.\n",
    "\n",
    "Complete code: Have a look and recollect what is happening"
   ]
  },
  {
   "cell_type": "code",
   "execution_count": null,
   "metadata": {},
   "outputs": [],
   "source": [
    "import tensorflow as tf\n",
    "print(\"TensorFlow version: \" + tf.__version__)\n",
    "\n",
    "\n",
    "TUTORIAL_NAME = 'Tutorial1'\n",
    "MODEL_NAME = 'basicTFonAndroid'\n",
    "SAVED_MODEL_PATH = '../' + TUTORIAL_NAME+'_Saved_model/'\n",
    "\n",
    "\n",
    "A = tf.placeholder(tf.float32, shape=[1], name='some_nameA') # input a\n",
    "B = tf.placeholder(tf.float32, shape=[1], name='some_nameB') # input b\n",
    "\n",
    "# A tensorflow holder of type variable not used anywhere in this model \n",
    "W = tf.Variable(tf.zeros(shape=[1]), dtype=tf.float32, name='some_nameW') # weights\n",
    "\n",
    "# sum of two matrices element-wise, in our case two numbers in \n",
    "AB = tf.add(A, B, name='some_nameAB')\n",
    "\n",
    "\n",
    "sess = tf.Session()\n",
    "init = tf.global_variables_initializer()\n",
    "sess.run(init)\n",
    "\n",
    "\n",
    "sess.run(AB,{A:[2],B:[4]})\n",
    "\n",
    "\n",
    "tf.train.write_graph(sess.graph_def, SAVED_MODEL_PATH , MODEL_NAME + '_withWeightW_asVariable' + '.pbtxt')\n",
    "\n",
    "\n",
    "_W = W.eval(sess)\n",
    "print(_W)\n",
    "\n",
    "\n",
    "A2 = tf.placeholder(tf.float32, shape=[1], name='modelInputA') # input a\n",
    "B2 = tf.placeholder(tf.float32, shape=[1], name='modelInputB') # input b\n",
    "\n",
    "# A tensorflow holder of type constant(not actually used anywhere in this model)\n",
    "W2 = tf.constant(_W, name='modelWeightW') # weights\n",
    "\n",
    "# sum of two matrices element-wise, in our case two numbers in \n",
    "AB2 = tf.add(A2, B2, name='modelOutputAB')\n",
    "\n",
    "\n",
    "tf.train.write_graph(sess.graph_def, SAVED_MODEL_PATH , MODEL_NAME + '.pbtxt')\n",
    "tf.train.write_graph(sess.graph_def, SAVED_MODEL_PATH , MODEL_NAME + '.pb', as_text=False)"
   ]
  }
 ],
 "metadata": {
  "kernelspec": {
   "display_name": "Python 2",
   "language": "python",
   "name": "python2"
  },
  "language_info": {
   "codemirror_mode": {
    "name": "ipython",
    "version": 2
   },
   "file_extension": ".py",
   "mimetype": "text/x-python",
   "name": "python",
   "nbconvert_exporter": "python",
   "pygments_lexer": "ipython2",
   "version": "2.7.14"
  }
 },
 "nbformat": 4,
 "nbformat_minor": 2
}
