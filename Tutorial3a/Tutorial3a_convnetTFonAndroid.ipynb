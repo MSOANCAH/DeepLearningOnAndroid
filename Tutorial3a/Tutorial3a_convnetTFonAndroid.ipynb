{
 "cells": [
  {
   "cell_type": "code",
   "execution_count": null,
   "metadata": {},
   "outputs": [],
   "source": [
    "import tensorflow as tf\n",
    "import math\n",
    "print('TensorFlow version: ' + tf.__version__)"
   ]
  },
  {
   "cell_type": "code",
   "execution_count": null,
   "metadata": {},
   "outputs": [],
   "source": [
    "from tensorflow.examples.tutorials.mnist import input_data as mnist_data\n",
    "mnist = mnist_data.read_data_sets(\"../MNIST_data\", one_hot=True, reshape=True, validation_size=0)\n",
    "\n",
    "x_train = mnist.train.images # we will not be using these to feed in data\n",
    "y_train = mnist.train.labels # instead we will be using next_batch function to train in batches\n",
    "x_test = mnist.test.images\n",
    "y_test = mnist.test.labels\n",
    "\n",
    "print ('We have '+str(x_train.shape[0])+' training examples in dataset')"
   ]
  },
  {
   "cell_type": "code",
   "execution_count": null,
   "metadata": {},
   "outputs": [],
   "source": [
    "TUTORIAL_NAME = 'Tutorial3a'\n",
    "MODEL_NAME = 'convnetTFonAndroid'\n",
    "SAVED_MODEL_PATH = '../' + TUTORIAL_NAME+'_Saved_model/'"
   ]
  },
  {
   "cell_type": "code",
   "execution_count": null,
   "metadata": {},
   "outputs": [],
   "source": [
    "BATCH_SIZE = 100\n",
    "KEEP_PROB = 0.75\n",
    "\n",
    "LEARNING_RATE_MAX = 1e-1    #1e-2\n",
    "LEARNING_RATE_MIN = 1e-1    #1e-4\n",
    "TRAIN_STEPS = 600           #600 * 2\n",
    "\n",
    "for i in range(TRAIN_STEPS+1):\n",
    "\n",
    "    up = -math.log(LEARNING_RATE_MAX,10)\n",
    "    lp = -math.log(LEARNING_RATE_MIN,10)\n",
    "    \n",
    "    LEARNING_RATE = LEARNING_RATE_MIN + (LEARNING_RATE_MAX - LEARNING_RATE_MIN)* math.pow(10,(up - lp)*((i)/(TRAIN_STEPS+1e-9)))\n",
    "    if i%(TRAIN_STEPS/10)==0:\n",
    "        print LEARNING_RATE\n"
   ]
  },
  {
   "cell_type": "code",
   "execution_count": null,
   "metadata": {},
   "outputs": [],
   "source": [
    "keepProb = tf.placeholder(tf.float32)\n",
    "lRate = tf.placeholder(tf.float32)\n",
    "\n",
    "W1 = tf.Variable(tf.truncated_normal([6, 6, 1, 6], stddev=0.1)) \n",
    "B1 = tf.Variable(tf.constant(0.1, tf.float32, [6]))\n",
    "W2 = tf.Variable(tf.truncated_normal([5, 5, 6, 12], stddev=0.1))\n",
    "B2 = tf.Variable(tf.constant(0.1, tf.float32, [12]))\n",
    "W3 = tf.Variable(tf.truncated_normal([4, 4, 12, 24], stddev=0.1))\n",
    "B3 = tf.Variable(tf.constant(0.1, tf.float32, [24]))\n",
    "\n",
    "W4 = tf.Variable(tf.truncated_normal([7 * 7 * 24, 200], stddev=0.1))\n",
    "B4 = tf.Variable(tf.constant(0.1, tf.float32, [200]))\n",
    "W5 = tf.Variable(tf.truncated_normal([200, 10], stddev=0.1))\n",
    "B5 = tf.Variable(tf.constant(0.1, tf.float32, [10]))\n",
    "\n",
    "# The model\n",
    "X = tf.placeholder(tf.float32, [None, 28*28], name='modelInput')\n",
    "X_image = tf.reshape(X, [-1, 28, 28, 1])\n",
    "Y_ = tf.placeholder(tf.float32, [None, 10])\n",
    "\n",
    "Y1 = tf.nn.relu(tf.nn.conv2d(X_image, W1, strides=[1, 1, 1, 1], padding='SAME') + B1)\n",
    "Y2 = tf.nn.relu(tf.nn.conv2d(Y1, W2, strides=[1, 2, 2, 1], padding='SAME') + B2)\n",
    "Y3 = tf.nn.relu(tf.nn.conv2d(Y2, W3, strides=[1, 2, 2, 1], padding='SAME') + B3)\n",
    "\n",
    "YY = tf.reshape(Y3, shape=[-1, 7 * 7 * 24])\n",
    "\n",
    "Y4 = tf.nn.relu(tf.matmul(YY, W4) + B4)\n",
    "YY4 = tf.nn.dropout(Y4, keepProb)\n",
    "Ylogits = tf.matmul(YY4, W5) + B5\n",
    "Y = tf.nn.softmax(Ylogits)\n",
    "\n",
    "#########\n",
    "Ylogits = tf.matmul(Y4, W5) + B5\n",
    "Y_inf = tf.nn.softmax(Ylogits, name='modelOutput')\n",
    "#########"
   ]
  },
  {
   "cell_type": "code",
   "execution_count": null,
   "metadata": {},
   "outputs": [],
   "source": [
    "cross_entropy = 100 * tf.reduce_mean(tf.nn.softmax_cross_entropy_with_logits(logits=Ylogits, labels=Y_))\n",
    "correct_prediction = tf.equal(tf.argmax(Y, 1), tf.argmax(Y_, 1))\n",
    "accuracy = tf.reduce_mean(tf.cast(correct_prediction, tf.float32))\n",
    "train_step = tf.train.AdamOptimizer(lRate).minimize(cross_entropy)"
   ]
  },
  {
   "cell_type": "code",
   "execution_count": null,
   "metadata": {},
   "outputs": [],
   "source": [
    "tf.set_random_seed(0)\n",
    "\n",
    "init = tf.global_variables_initializer()\n",
    "sess = tf.Session()\n",
    "sess.run(init)\n",
    "saver = tf.train.Saver()"
   ]
  },
  {
   "cell_type": "code",
   "execution_count": null,
   "metadata": {},
   "outputs": [],
   "source": [
    "for i in range(TRAIN_STEPS+1):\n",
    "\n",
    "    up = -math.log(LEARNING_RATE_MAX,10)\n",
    "    lp = -math.log(LEARNING_RATE_MIN,10)\n",
    "    \n",
    "    LEARNING_RATE = LEARNING_RATE_MIN + (LEARNING_RATE_MAX - LEARNING_RATE_MIN)* math.pow(10,(up - lp)*((i)/(TRAIN_STEPS+1e-9)))\n",
    "    \n",
    "    batch_X, batch_Y = mnist.train.next_batch(BATCH_SIZE)\n",
    "    \n",
    "    sess.run(train_step, feed_dict={X: batch_X, Y_: batch_Y, lRate:LEARNING_RATE, keepProb:KEEP_PROB})\n",
    "    if i%100 == 0:\n",
    "        print('Latest learning rate is: '+str(LEARNING_RATE))\n",
    "    if i%100 == 0:\n",
    "        print('Training Step:' + str(i) \n",
    "              + '  Accuracy =  ' + str(sess.run(accuracy, feed_dict={X: x_test, Y_: y_test, keepProb:1.0})) \n",
    "              + '  Loss = ' + str(sess.run(cross_entropy, {X: x_test, Y_: y_test})) \n",
    "             )\n",
    "    # uncomment this when learning rate is non-zero to save checkpoints\n",
    "    #if i%100 == 0:\n",
    "        #out = saver.save(sess, SAVED_MODEL_PATH + MODEL_NAME + '.ckpt', global_step=i)\n"
   ]
  },
  {
   "cell_type": "code",
   "execution_count": null,
   "metadata": {},
   "outputs": [],
   "source": [
    "tf.train.write_graph(sess.graph_def, SAVED_MODEL_PATH , MODEL_NAME + '.pbtxt')\n",
    "tf.train.write_graph(sess.graph_def, SAVED_MODEL_PATH , MODEL_NAME + '.pb',as_text=False)"
   ]
  },
  {
   "cell_type": "code",
   "execution_count": null,
   "metadata": {},
   "outputs": [],
   "source": [
    "from tensorflow.python.tools import freeze_graph\n",
    "\n",
    "# Freeze the graph\n",
    "input_graph = SAVED_MODEL_PATH+MODEL_NAME+'.pb'\n",
    "input_saver = \"\"\n",
    "input_binary = True\n",
    "input_checkpoint = SAVED_MODEL_PATH+MODEL_NAME+'.ckpt-1200'\n",
    "output_node_names = 'modelOutput'\n",
    "restore_op_name = 'save/restore_all'\n",
    "filename_tensor_name = 'save/Const:0'\n",
    "output_graph = SAVED_MODEL_PATH+'frozen_'+MODEL_NAME+'.pb'\n",
    "clear_devices = True\n",
    "initializer_nodes = \"\"\n",
    "variable_names_blacklist = \"\"\n",
    "\n",
    "freeze_graph.freeze_graph(\n",
    "    input_graph,\n",
    "    input_saver,\n",
    "    input_binary,\n",
    "    input_checkpoint,\n",
    "    output_node_names,\n",
    "    restore_op_name,\n",
    "    filename_tensor_name,\n",
    "    output_graph,\n",
    "    clear_devices,\n",
    "    initializer_nodes,\n",
    "    variable_names_blacklist\n",
    ")"
   ]
  },
  {
   "cell_type": "code",
   "execution_count": null,
   "metadata": {},
   "outputs": [],
   "source": []
  }
 ],
 "metadata": {
  "kernelspec": {
   "display_name": "Python 2",
   "language": "python",
   "name": "python2"
  },
  "language_info": {
   "codemirror_mode": {
    "name": "ipython",
    "version": 2
   },
   "file_extension": ".py",
   "mimetype": "text/x-python",
   "name": "python",
   "nbconvert_exporter": "python",
   "pygments_lexer": "ipython2",
   "version": "2.7.14"
  }
 },
 "nbformat": 4,
 "nbformat_minor": 2
}
